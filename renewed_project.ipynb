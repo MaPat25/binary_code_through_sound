{
 "cells": [
  {
   "cell_type": "code",
   "execution_count": 1,
   "metadata": {},
   "outputs": [],
   "source": [
    "import numpy as np\n",
    "from matplotlib import pyplot as plt\n",
    "from scipy.fft import fft, fftfreq, rfft, rfftfreq\n",
    "from scipy.io.wavfile import write, read \n",
    "from scipy.io import wavfile\n",
    "import math\n",
    "from time import sleep\n",
    "from math import floor\n",
    "import pyaudio\n",
    "import wave\n",
    "\n",
    "\n",
    "\n"
   ]
  },
  {
   "cell_type": "code",
   "execution_count": null,
   "metadata": {},
   "outputs": [],
   "source": [
    "_, __, act = self.plotting_function(definite_yf_array, definite_sound_array, supposed_sound_array, freq0, freq1, xf_for_array, range_index, N, sample_rate)"
   ]
  },
  {
   "cell_type": "code",
   "execution_count": 69,
   "metadata": {},
   "outputs": [
    {
     "name": "stdout",
     "output_type": "stream",
     "text": [
      "Recording\n"
     ]
    }
   ],
   "source": [
    "filename = \"recorded.wav\"\n",
    "chunk = 1024\n",
    "FORMAT = pyaudio.paInt16\n",
    "channels = 1\n",
    "sample_rate = 44100\n",
    "record_seconds = 7\n",
    "p = pyaudio.PyAudio()\n",
    "stream = p.open(format=FORMAT,\n",
    "                channels=channels,\n",
    "                rate=sample_rate,\n",
    "                input=True,\n",
    "                output=True,\n",
    "                frames_per_buffer=chunk)\n",
    "frames = []\n",
    "print(\"Recording\")\n",
    "for i in range(int(sample_rate / chunk * record_seconds)):\n",
    "  data = stream.read(chunk)\n",
    "  frames.append(data)\n",
    "stream.stop_stream()\n",
    "stream.close()\n",
    "p.terminate()\n",
    "wf = wave.open(filename, \"wb\")\n",
    "wf.setnchannels(channels)\n",
    "wf.setsampwidth(p.get_sample_size(FORMAT))\n",
    "wf.setframerate(sample_rate)\n",
    "wf.writeframes(b\"\".join(frames))\n",
    "wf.close()"
   ]
  },
  {
   "cell_type": "code",
   "execution_count": 156,
   "metadata": {},
   "outputs": [],
   "source": [
    "class modulator:\n",
    "\n",
    "    def __init__(self):\n",
    "        self.sample_rate, self.freq0, self.freq1, self.text, self.change_time = 44100, 1000, 2000, \"1010\", 0.5\n",
    "\n",
    "    def set_values(self, sample_rate, freq0, freq1, text, change_time):\n",
    "        self.sample_rate, self.freq0, self.freq1, self.text, self.change_time = sample_rate, freq0, freq1, text, change_time\n",
    "    \n",
    "    def set_freq0(self, freq0):\n",
    "       self.freq0 = freq0\n",
    "    \n",
    "    def set_freq1(self, freq1):\n",
    "       self.freq1 = freq1\n",
    "    \n",
    "    def set_sample_rate(self, sample_rate):\n",
    "       self.sample_rate = sample_rate\n",
    "    \n",
    "    def set_text(self, text):\n",
    "       self.text = text\n",
    "    \n",
    "    def set_change_time(self, change_time):\n",
    "       self.change_time = change_time\n",
    "\n",
    "    @staticmethod\n",
    "    def generate_sine_wave(freq, sample_rate, duration):\n",
    "      x = np.linspace(0, duration, int(sample_rate*duration), endpoint=False)\n",
    "      frequencies = x * freq\n",
    "      y = np.sin((2 * np.pi) * frequencies)\n",
    "      return x, y\n",
    "    \n",
    "    def signal_modulation(self): #Сама частотная модуляция. Эта часть будет дорабатываться, пока что тут только две частоты(тупо складываем синусоиды двух частот)\n",
    "      change_time, text, freq0, freq1, sample_rate = self.change_time, self.text, self.freq0, self.freq1, self.sample_rate\n",
    "      duration = change_time * len(text)\n",
    "      num = int(duration / change_time)\n",
    "      time = np.array([], dtype = np.int16)\n",
    "      signal = np.array([], dtype = np.int16)\n",
    "      for i in range(num):\n",
    "        if text[i] == \"0\":\n",
    "            freq = freq0\n",
    "        if text[i] == \"1\":\n",
    "            freq = freq1\n",
    "        time_diff, data = self.generate_sine_wave(freq, sample_rate, change_time)\n",
    "        signal = np.concatenate((signal, data), axis = None)\n",
    "        time = np.concatenate((time, time_diff), axis = None)\n",
    "      return time, signal\n",
    "    \n",
    "class wav_manager:\n",
    "   \n",
    "   def __init__(self):\n",
    "    self.recorded_name = \"recorded.wav\"\n",
    "    self.writing_name = \"tone_ex\"\n",
    "\n",
    "   def set_recorded_name(self, name):\n",
    "    self.recorded_name = name\n",
    "\n",
    "   def set_writing_name(self, name):\n",
    "    self.writing_name = name\n",
    "\n",
    "   def get_data_sample_rate(self):\n",
    "    sample_rate, data = wavfile.read(self.recorded_name)\n",
    "    duration = len(data) / sample_rate \n",
    "    return data, sample_rate\n",
    "   \n",
    "   def write_sound(self, sample_rate, data):\n",
    "      write(self.writing_name, sample_rate, data)\n",
    "   \n",
    "class decoder:\n",
    "   \n",
    "   def __init__(self):\n",
    "      self.sample_rate, self.freq0, self.freq1, self.change_time, self.index_range = 44100, 1000, 2000, 0.5, 3\n",
    "    \n",
    "   def set_freqses(self, freq0 = 1000, freq1 = 2000):\n",
    "      self.freq0, self.freq1 = freq0, freq1\n",
    "\n",
    "   def get_freqs_indexes(self, xf):\n",
    "     index_freq0, index_freq1 = int(7.5 * len(xf) / 330750 * self.freq0), int(7.5 * len(xf) / 330750 * self.freq1)\n",
    "     return index_freq0, index_freq1\n",
    "   \n",
    "   def set_values(self, data, sample_rate, freq0, freq1, change_time, range_index):\n",
    "      self.data, self.sample_rate, self.freq0, self.freq1, self.change_time, self.freq0_index_standard, self.freq1_index_standard, self.index_range = data, sample_rate, freq0, freq1, change_time, 7.5 * freq0, 7.5 * freq1, range_index\n",
    "      self.xf = rfftfreq(len(self.data), 1 / self.sample_rate)\n",
    "\n",
    "   def fourier_abs(self, data):\n",
    "    sample_rate = self.sample_rate\n",
    "    duration = int(len(data) / sample_rate)\n",
    "    xf = rfftfreq(len(data), 1 / sample_rate)\n",
    "    yf = rfft(data)\n",
    "    yf = yf.flatten()\n",
    "    return np.array([xf, np.abs(yf)])\n",
    "   \n",
    "   def get_index_start_end_of_longest_ones(self, lt):\n",
    "     m = 0\n",
    "     index = 0\n",
    "     cnt = 0\n",
    "     end_index = 0\n",
    "     length = 0\n",
    "     for i in range(len(lt)):\n",
    "       a = bool(lt[i])\n",
    "       if a:\n",
    "         cnt += 1\n",
    "       if not a:\n",
    "         if cnt > m:\n",
    "           m = cnt\n",
    "           index = i - cnt\n",
    "           end_index = index + cnt -1\n",
    "           length = end_index - index + 1\n",
    "         cnt = 0\n",
    "     if cnt > m:\n",
    "       index = i + 1 - cnt\n",
    "     return index, end_index, length\n",
    "   \n",
    "   def fourier_for_array(self, data_array, sample_rate):\n",
    "    _, ans = self.fourier_abs(data_array[0])\n",
    "    ans = [ans]\n",
    "    for i in range(1, len(data_array)):\n",
    "      data_window = data_array[i]\n",
    "      xf_for_array, yf_window = self.fourier_abs(data_window)\n",
    "      ans = np.concatenate((ans, [yf_window]), axis = 0)\n",
    "    return xf_for_array, ans\n",
    "   \n",
    "   def abs_diff(self, yf_window, xf, freq0, freq1, range_index):\n",
    "    absolute_difference = abs(self.freq0_sum(yf_window) - self.freq1_sum(yf_window)) ** 2\n",
    "    return absolute_difference\n",
    "   \n",
    "   def calc_index(self, freq, xf):\n",
    "     index = int(len(xf) / 22050 * freq)\n",
    "     return index\n",
    "   \n",
    "   def freq_sum(self, yf, xf, freq):\n",
    "     if math.isclose(freq, self.freq0, abs_tol = 1):\n",
    "       pass\n",
    "     elif math.isclose(freq, self.freq1, abs_tol = 1):\n",
    "       pass\n",
    "     else:\n",
    "       raise ValueError(\"you stupid\")\n",
    "     index_range = self.index_range\n",
    "     index_freq = self.calc_index(freq, xf)\n",
    "     s = 0\n",
    "     for i in range(index_freq - index_range, index_freq + index_range):\n",
    "       amplitude = yf[i]\n",
    "       s += abs(amplitude)\n",
    "\n",
    "     return s\n",
    "   \n",
    "   def set_change_time(self, change_time):\n",
    "     self.change_time = change_time\n",
    "\n",
    "   \n",
    "   def fill_in(self, yf_array, xf, freq0, freq1):\n",
    "     freq0, freq1 = self.freq0, self.freq1\n",
    "     bool_array = np.zeros(len(yf_array), dtype = bool)\n",
    "     normalized_yf = self.normalize_data_array(yf_array, xf, freq0, freq1)\n",
    "     for i in range(len(bool_array)):\n",
    "       window = normalized_yf[i]\n",
    "       amplitude_freq0, amplitude_freq1 = self.freq_sum(window, xf, freq0), self.freq_sum(window, xf, freq1)\n",
    "       print(amplitude_freq0, amplitude_freq1)\n",
    "       if amplitude_freq0 + amplitude_freq1 > 3:\n",
    "         \n",
    "         bool_array[i] = True\n",
    "     return bool_array\n",
    "   \n",
    "   def normalize_data_array(self, yf_array, xf, freq0, freq1):\n",
    "    normalized_array = yf_array\n",
    "    medium_amplitude_freq0, medium_amplitude_freq1 = self.calc_medium(yf_array, xf, freq0), self.calc_medium(yf_array, xf, freq1)\n",
    "    for i in range(len(yf_array)):\n",
    "      window = yf_array[i]\n",
    "      normalized_array[i] = self.normalize(window, xf, medium_amplitude_freq0, medium_amplitude_freq1)\n",
    "    return normalized_array\n",
    "   \n",
    "   def decoder_1(self, data):\n",
    "     freq0, freq1 = self.freq0, self.freq1\n",
    "     sample_rate, change_time, range_index = self.sample_rate, self.change_time, self.index_range\n",
    "     duration = int(len(data) / sample_rate)      #whole time\n",
    "     print(duration)\n",
    "     N0 = int(duration / change_time)        #number of windows\n",
    "     data_array = self.secure_split(data, N0)         #array of arrays with sound data\n",
    "     xf_for_array, yf_array = self.fourier_for_array(data_array, sample_rate)  \n",
    "     yf_for_array_bool = self.fill_in(yf_array, xf_for_array, freq0, freq1)\n",
    "     rough_beginning_index, rough_end_index, N = self.get_index_start_end_of_longest_ones(yf_for_array_bool)#index where signal  starts (rough estimation)\n",
    "     definite_yf_array = yf_array[rough_beginning_index - 1:rough_end_index + 2] #sin waves should be found here\n",
    "     definite_sound_array, supposed_sound_array, p = self.sound_array_by_index(data, rough_beginning_index, rough_end_index, len(yf_for_array_bool))\n",
    "     print(len(supposed_sound_array.flatten()) / 44100)\n",
    "     actual_sound = self.find_sound(N, definite_sound_array, supposed_sound_array)\n",
    "     code = self.decoding(actual_sound, N)\n",
    "     \n",
    "     return  actual_sound, yf_for_array_bool, N, rough_beginning_index, rough_end_index, code\n",
    "   \n",
    "   def decoding(self, sound, N):\n",
    "     code = \"\"\n",
    "     xf, yf_array = self.fourier_for_array(self.secure_split(sound, N), self.sample_rate)\n",
    "     for i in range(len(yf_array)):\n",
    "       window = yf_array[i]\n",
    "       amp1, amp2 = self.freq_sum(window, xf, self.freq0), self.freq_sum(window, xf, self.freq1)\n",
    "       if amp1 > amp2:\n",
    "         code += \"0\"\n",
    "       if amp1 < amp2:\n",
    "         code += \"1\"\n",
    "     return code\n",
    "\n",
    "\n",
    "   def find_max(self, x, sound_data, N, l, definite_sound_data):\n",
    "    next_x = x\n",
    "    while len(next_x) > 4:\n",
    "      x_array = self.secure_split(next_x, 3)\n",
    "      next_x = np.array([x_array[0], x_array[1]])\n",
    "      x1, x2, x3, x4 = x_array[0][0], x_array[1][0], x_array[2][0], x_array[2][len(x_array[0]) - 1]\n",
    "      F1, F2, F3, F4 = self.calc_funcions(sound_data, N, x1, x2, x3, x4, definite_sound_data, l)\n",
    "      if F2 > F3:\n",
    "        next_x[0], next_x[1] = x_array[0], x_array[1]\n",
    "        next_x = next_x.flatten()\n",
    "      else:\n",
    "        next_x[0], next_x[1] = x_array[1], x_array[2]\n",
    "        next_x = next_x.flatten()    \n",
    "    ans_x = np.max(next_x)\n",
    "    return ans_x, F2\n",
    "     \n",
    "   \n",
    "   def find_sound(self, N, definite_sound_array, supposed_sound_array):\n",
    "    target_sound_data, definite_sound_data = supposed_sound_array.flatten(), definite_sound_array.flatten()\n",
    "    l, l2 = len(target_sound_data), len(definite_sound_data)\n",
    "    X = np.linspace(0, l2 - l, l2 - l)\n",
    "    X1, X2, X3 = self.secure_split(X,3)[0], self.secure_split(X,3)[1], self.secure_split(X,3)[2]\n",
    "    X1, X2, X3 = X1.astype(int), X2.astype(int), X3.astype(int)\n",
    "    ans_x1, F1 = self.find_max(X1, target_sound_data, N, l, definite_sound_data)\n",
    "    ans_x2, F2 = self.find_max(X2, target_sound_data, N, l, definite_sound_data)\n",
    "    ans_x3, F3 = self.find_max(X3, target_sound_data, N, l, definite_sound_data)\n",
    "    ans, F = max(ans_x1, ans_x2, ans_x3), max(F1, F2, F3)\n",
    "    print(ans_x1, ans_x2, ans_x3, F, \"alg\")\n",
    "    return self.sound_data_by_x(definite_sound_data, ans, l)\n",
    "\n",
    "   def sound_data_by_x(self, definite_sound_data, x, l):\n",
    "     ans_sound_data = definite_sound_data[int(x):int(x + l) - 1]\n",
    "     return ans_sound_data\n",
    "   \n",
    "   def F(self, sound_array, N):\n",
    "     data_array = self.secure_split(sound_array, N)\n",
    "     xf, yf_array = self.fourier_for_array(data_array, self.sample_rate)\n",
    "     func = self.calc_function(yf_array, xf)\n",
    "     return func\n",
    "\n",
    "\n",
    "       \n",
    "\n",
    "   def calc_funcions(self, sound_data, N, x1, x2, x3, x4, definite_sound_data, l):\n",
    "     sound_data1, sound_data2, sound_data3, sound_data4 = self.sound_data_by_x(definite_sound_data, x1, l), self.sound_data_by_x(definite_sound_data, x2, l), self.sound_data_by_x(definite_sound_data, x3, l), self.sound_data_by_x(definite_sound_data, x4, l)\n",
    "     F1, F2, F3, F4 = self.F(sound_data1, N), self.F(sound_data2, N), self.F(sound_data3, N), self.F(sound_data4, N)\n",
    "     return F1, F2, F3, F4\n",
    "\n",
    "   def sound_array_by_index(self, data, index_left, index_right, change_time):\n",
    "    points_per_window = int(self.change_time * self.sample_rate)\n",
    "    print(points_per_window, len(data))\n",
    "    definite_sound_array = data[int(points_per_window * (index_left - 1)): int(points_per_window * (index_right + 2))]\n",
    "    supposed_sound_array = data[int(points_per_window * (index_left - 1)): int(points_per_window * (index_right))]\n",
    "    return definite_sound_array, supposed_sound_array, points_per_window\n",
    "     \n",
    "\n",
    "   def secure_split(self, d_array, N):\n",
    "     if len(d_array) % N !=0:\n",
    "       d_array = np.concatenate((d_array, np.zeros(N - len(d_array) % N)), axis = None)\n",
    "     d_array = np.split(d_array, N)\n",
    "     l = np.shape(d_array)\n",
    "     if len(l) == 3:\n",
    "        d_array = np.reshape(d_array, (l[0], l[1]))\n",
    "     return np.array(d_array)\n",
    "   \n",
    "\n",
    "  \n",
    "\n",
    "   def normalize(self, array, xf, medium_amplitude_freq0, medium_amplitude_freq1):\n",
    "    freq0_amplitude, freq1_amplitude = 0, 0\n",
    "    index_freq0, index_freq1 = self.calc_index(self.freq0, xf), self.calc_index(self.freq1, xf)\n",
    "    for i in range(2 * self.index_range):\n",
    "      freq0_amplitude += array[index_freq0 - self.index_range + i]\n",
    "      freq1_amplitude += array[index_freq1 - self.index_range + i]\n",
    "    array[index_freq0 - self.index_range: index_freq0 + self.index_range + 1] = 0\n",
    "    array[index_freq1 - self.index_range: index_freq1 + self.index_range + 1] = 0\n",
    "    array[index_freq0], array[index_freq1]  = freq0_amplitude / medium_amplitude_freq0, freq1_amplitude / medium_amplitude_freq1\n",
    "    return array\n",
    "\n",
    "   def calc_medium(self, yf_array, xf, freq):\n",
    "    medium_amplitude = 0\n",
    "    sum = 0\n",
    "    N = len(yf_array)\n",
    "    for i in range(len(yf_array)):\n",
    "      window = yf_array[i]\n",
    "      amplitude = self.freq_sum(window, xf, freq)\n",
    "      sum += abs(amplitude)\n",
    "    medium_amplitude = sum / N\n",
    "    return medium_amplitude\n",
    "   \n",
    "   def make_step(self, definite_sound_array):\n",
    "     step = len(definite_sound_array) * 0.0001\n",
    "     return int(step)\n",
    "   \n",
    "   def apply_step(self, definite_sound_array, supposed_sound_array, N, step, number_of_steps, sample_rate):\n",
    "     changed_sound_array = definite_sound_array[int(step * number_of_steps + step):int(step * number_of_steps + len(supposed_sound_array) + step)]\n",
    "     changed_sound_data_array = self.secure_split(changed_sound_array, N)\n",
    "     xf, changed_yf_array = self.fourier_for_array(changed_sound_data_array, sample_rate)\n",
    "     return xf, changed_yf_array, changed_sound_array\n",
    "   \n",
    "   def plotting_function(self, definite_yf_array, definite_sound_array, supposed_sound_array, freq0, freq1, xf, range_index, N, sample_rate):\n",
    "     number_of_steps = 0\n",
    "     y_array = np.array([], dtype = float)\n",
    "     step = self.make_step(definite_sound_array)\n",
    "     x_array= np.array([], dtype = float)\n",
    "     while int(step * number_of_steps) + len(supposed_sound_array) + step < len(definite_sound_array) - 1 - step:\n",
    "        xf, yf_array, changed_sound_array = self.apply_step(definite_sound_array, supposed_sound_array, N, step, number_of_steps, sample_rate)\n",
    "        func = self.calc_function(yf_array, xf)\n",
    "        y_array = np.concatenate((y_array, [func]), axis = None)\n",
    "        step = self.make_step(definite_sound_array)\n",
    "        supposed_sound_array = changed_sound_array\n",
    "        x_array = np.concatenate((x_array, [number_of_steps]), axis = None)\n",
    "        number_of_steps += 1\n",
    "     plt.plot(y_array)\n",
    "     m = np.argmax(y_array)\n",
    "     print(np.max(y_array), \"act\")\n",
    "     return x_array, y_array, step*(x_array[m])\n",
    "   \n",
    "   def abs_diff(self, yf_window, xf, freq0, freq1):\n",
    "    absolute_difference = (self.freq_sum(yf_window, xf, freq0) - self.freq_sum(yf_window, xf, freq1))** 2\n",
    "    return absolute_difference\n",
    "   \n",
    "   def calc_function(self, yf_array, xf):\n",
    "    freq0, freq1 = self.freq0, self.freq1\n",
    "    func = 0\n",
    "    for i in range(len(yf_array)):\n",
    "      yf_window = yf_array[i]\n",
    "      func += self.abs_diff(yf_window, xf, freq0, freq1)\n",
    "    return func\n",
    "\n",
    "\n",
    "\n",
    "\n",
    "\n",
    "          "
   ]
  },
  {
   "cell_type": "code",
   "execution_count": 158,
   "metadata": {},
   "outputs": [],
   "source": [
    "def generate_sine_wave(freq, sample_rate, duration):\n",
    "    x = np.linspace(0, duration, int(sample_rate*duration), endpoint=False)\n",
    "    frequencies = x * freq\n",
    "    y = np.sin((2 * np.pi) * frequencies)\n",
    "    return x, y\n",
    "\n",
    "def signal_modulation(text, freq0, freq1, sample_rate, change_time): #Сама частотная модуляция. Эта часть будет дорабатываться, пока что тут только две частоты(тупо складываем синусоиды двух частот)\n",
    "    duration = change_time * len(text)\n",
    "    num = int(duration / change_time)\n",
    "    time = np.array([], dtype = np.int16)\n",
    "    signal = np.array([], dtype = np.int16)\n",
    "    for i in range(num):\n",
    "        if text[i] == \"0\":\n",
    "            freq = freq0\n",
    "        if text[i] == \"1\":\n",
    "            freq = freq1\n",
    "        time_diff, data = generate_sine_wave(freq, sample_rate, change_time)\n",
    "        signal = np.concatenate((signal, data), axis = None)\n",
    "        time = np.concatenate((time, time_diff), axis = None)\n",
    "    return time, signal\n",
    "\n",
    "CHANGE_TIME = 0.5 \n",
    "FREQ1 = 3000\n",
    "FREQ2 = 4500\n",
    "TEXT = \"101010110101010101010\"\n",
    "DURATION = len(TEXT) * CHANGE_TIME\n",
    "x, tone_ex = signal_modulation(TEXT, FREQ1, FREQ2, 44100, CHANGE_TIME)\n",
    "tone_ex = np.concatenate((np.random.randint(10, size = 400000), tone_ex, np.random.randint(10, size = 400000)), axis = None)\n",
    "write(\"tone_ex\", 44100, tone_ex)"
   ]
  },
  {
   "cell_type": "code",
   "execution_count": 159,
   "metadata": {},
   "outputs": [
    {
     "name": "stdout",
     "output_type": "stream",
     "text": [
      "28\n",
      "0.2237126867941786 0.31848317433936585\n",
      "0.2495800395325837 0.2628368460639366\n",
      "0.29492594038768766 0.3425401440067492\n",
      "0.32231490658266065 0.2604439813965289\n",
      "0.383758613295454 0.24288640052518576\n",
      "0.3814061756033387 0.17441818881782306\n",
      "0.48083081468079225 0.3378323752853843\n",
      "0.354346242899701 0.2848779323597065\n",
      "0.3802045381916427 0.3460581698169346\n",
      "0.3005323930655882 0.4017166920549917\n",
      "0.2798510571027842 0.410492597527431\n",
      "0.3488057137196673 0.22956097997022606\n",
      "0.20726455454850876 0.2686222691783007\n",
      "0.37618286069094486 0.3708353272161055\n",
      "0.37422221922377663 0.34880161813050875\n",
      "0.31745678014212286 0.22794122863439742\n",
      "0.27876741835881325 0.3657435594916034\n",
      "0.28600140857715034 1.7520462991142218\n",
      "1.8880098516059778 2.2965140393146735\n",
      "2.489871726690647 1.8455998209878326\n",
      "2.0301476480499585 2.161432627706897\n",
      "2.3763664495026973 1.9723513804674404\n",
      "2.1391055369126737 2.167019109997137\n",
      "2.2282043016669237 2.0428929547442585\n",
      "0.004346709959005619 3.1380515710751826\n",
      "2.2370501540158036 2.1675459090863\n",
      "2.3239020249977416 2.2085920569771558\n",
      "2.316614017371696 2.2224978337789505\n",
      "2.3153317181582134 2.221844598534262\n",
      "2.3231381236015927 2.2071854483445015\n",
      "2.2337429525374044 2.165214557943712\n",
      "2.262277935207553 2.1133271018134927\n",
      "2.1662023533357377 2.1688415919972166\n",
      "2.3009099521432064 2.0074535624450363\n",
      "2.0903343441372173 2.148321295463007\n",
      "2.4449616827754106 1.914057772981063\n",
      "1.9439668891713133 2.2198299762383042\n",
      "2.5202185951060225 1.7531008390726577\n",
      "1.8659487322405024 0.19658801081571056\n",
      "0.2702884878214914 0.39072001215301827\n",
      "0.32866093770005783 0.3570670051564792\n",
      "0.2518649398101942 0.2936926860538552\n",
      "0.40577260545209454 0.4158101422499149\n",
      "0.34882250498012046 0.2960593530451973\n",
      "0.27122739322551137 0.3898440311851858\n",
      "0.26313671173394315 0.3405045476739925\n",
      "0.4055810031506431 0.34894045396043727\n",
      "0.33276989823811787 0.3593353081549779\n",
      "0.17990898111062847 0.2781921391804945\n",
      "0.3170794822559821 0.29846595430463213\n",
      "0.4242990960807514 0.25794642676393426\n",
      "0.40133530692010694 0.37552525549524307\n",
      "0.4069043572454962 0.32909793478084964\n",
      "0.3835074740495224 0.3425116252783898\n",
      "0.3500604766363363 0.42704320465345497\n",
      "0.3179642810043072 0.21484407619577425\n",
      "22050 1263050\n",
      "10.0\n",
      "3102.0 25152.0 0.0 2431012500.000561 alg\n"
     ]
    },
    {
     "data": {
      "text/plain": [
       "(array([False, False, False, False, False, False, False, False, False,\n",
       "        False, False, False, False, False, False, False, False, False,\n",
       "         True,  True,  True,  True,  True,  True,  True,  True,  True,\n",
       "         True,  True,  True,  True,  True,  True,  True,  True,  True,\n",
       "         True,  True, False, False, False, False, False, False, False,\n",
       "        False, False, False, False, False, False, False, False, False,\n",
       "        False, False]),\n",
       " 20,\n",
       " 18,\n",
       " 37,\n",
       " '10101011010101010101')"
      ]
     },
     "execution_count": 159,
     "metadata": {},
     "output_type": "execute_result"
    }
   ],
   "source": [
    "m = decoder()\n",
    "n = wav_manager()\n",
    "n.set_recorded_name(\"tone_ex\")\n",
    "data1, _ = n.get_data_sample_rate()\n",
    "m.set_freqses(3000, 4500)\n",
    "m.set_change_time(0.5)\n",
    "c, d, n, ind1, ind2, codi = m.decoder_1(data1)\n",
    "write(\"ans1\", 44100, c)\n",
    "d, n, ind1, ind2, codi"
   ]
  },
  {
   "cell_type": "code",
   "execution_count": 146,
   "metadata": {},
   "outputs": [
    {
     "name": "stdout",
     "output_type": "stream",
     "text": [
      "6\n",
      "0.006052538281004301 0.004184415700454595\n",
      "0.0019386305089754679 0.0014211099195256484\n",
      "0.0024483940602701344 0.002207877817977116\n",
      "0.008718883799400291 2.5771837486397695\n",
      "3.114820594753831 3.3265405808295996\n",
      "3.285867182613785 3.2936244566670454\n",
      "3.404487268175729 2.7751556701506015\n",
      "2.167792291902274 0.01059348632553766\n",
      "0.0019354449097612634 0.0021367532682418752\n",
      "0.001813769707257037 0.0036711724303672075\n",
      "0.0023631652378581303 0.0020823746478012524\n",
      "0.0017618360498545301 0.0011983536030803713\n",
      "22050 308224\n",
      "1.5\n",
      "2898.0 25890.0 29623.0 6.391460264453577e+17 alg\n"
     ]
    },
    {
     "data": {
      "text/plain": [
       "(array([False, False, False, False,  True,  True,  True, False, False,\n",
       "        False, False, False]),\n",
       " 3,\n",
       " 4,\n",
       " 6)"
      ]
     },
     "execution_count": 146,
     "metadata": {},
     "output_type": "execute_result"
    }
   ],
   "source": [
    "a = decoder()\n",
    "b = wav_manager()\n",
    "b.set_recorded_name(\"recorded.wav\")\n",
    "data, _ = b.get_data_sample_rate()\n",
    "a.set_freqses(1000, 1500)\n",
    "a.set_change_time(0.5)\n",
    "c, d, n, ind1, ind2 = a.decoder_1(data)\n",
    "write(\"ans\", 44100, c)\n",
    "d, n, ind1, ind2"
   ]
  },
  {
   "cell_type": "code",
   "execution_count": 148,
   "metadata": {},
   "outputs": [
    {
     "name": "stdout",
     "output_type": "stream",
     "text": [
      "1.9999773242630385\n"
     ]
    },
    {
     "data": {
      "image/png": "[encoded data removed]",
      "text/plain": [
       "<Figure size 640x480 with 4 Axes>"
      ]
     },
     "metadata": {},
     "output_type": "display_data"
    }
   ],
   "source": [
    "print(len(c)/44100)\n",
    "figure, axis = plt.subplots(4, 1)\n",
    "x,y = a.fourier_for_array(a.secure_split(c, 4), 44100)\n",
    "for i in range(4):\n",
    "    axis[i].plot(x, y[i])"
   ]
  },
  {
   "cell_type": "code",
   "execution_count": 9,
   "metadata": {},
   "outputs": [
    {
     "data": {
      "text/plain": [
       "[<matplotlib.lines.Line2D at 0x7f2cb4a80e80>]"
      ]
     },
     "execution_count": 9,
     "metadata": {},
     "output_type": "execute_result"
    },
    {
     "data": {
      "image/png": "[encoded data removed]",
      "text/plain": [
       "<Figure size 640x480 with 1 Axes>"
      ]
     },
     "metadata": {},
     "output_type": "display_data"
    }
   ],
   "source": [
    "plt.plot(c)"
   ]
  },
  {
   "cell_type": "code",
   "execution_count": 304,
   "metadata": {},
   "outputs": [
    {
     "data": {
      "text/plain": [
       "19.99997732426304"
      ]
     },
     "execution_count": 304,
     "metadata": {},
     "output_type": "execute_result"
    }
   ],
   "source": [
    "len(c) / 44100"
   ]
  },
  {
   "cell_type": "code",
   "execution_count": 307,
   "metadata": {},
   "outputs": [
    {
     "data": {
      "text/plain": [
       "[<matplotlib.lines.Line2D at 0x7f9024f9e020>]"
      ]
     },
     "execution_count": 307,
     "metadata": {},
     "output_type": "execute_result"
    },
    {
     "data": {
      "image/png": "[encoded data removed]",
      "text/plain": [
       "<Figure size 640x480 with 1 Axes>"
      ]
     },
     "metadata": {},
     "output_type": "display_data"
    }
   ],
   "source": [
    "plt.plot(x, y[2])"
   ]
  },
  {
   "cell_type": "code",
   "execution_count": 50,
   "metadata": {},
   "outputs": [
    {
     "data": {
      "text/plain": [
       "[<matplotlib.lines.Line2D at 0x7f2391222a10>]"
      ]
     },
     "execution_count": 50,
     "metadata": {},
     "output_type": "execute_result"
    },
    {
     "data": {
      "image/png": "[encoded data removed]",
      "text/plain": [
       "<Figure size 640x480 with 1 Axes>"
      ]
     },
     "metadata": {},
     "output_type": "display_data"
    }
   ],
   "source": [
    "plt.plot(d)"
   ]
  },
  {
   "cell_type": "code",
   "execution_count": 41,
   "metadata": {},
   "outputs": [
    {
     "data": {
      "text/plain": [
       "[<matplotlib.lines.Line2D at 0x7f23918aded0>]"
      ]
     },
     "execution_count": 41,
     "metadata": {},
     "output_type": "execute_result"
    },
    {
     "data": {
      "image/png": "[encoded data removed]",
      "text/plain": [
       "<Figure size 640x480 with 1 Axes>"
      ]
     },
     "metadata": {},
     "output_type": "display_data"
    }
   ],
   "source": [
    "plt.plot(data)"
   ]
  },
  {
   "cell_type": "code",
   "execution_count": null,
   "metadata": {},
   "outputs": [],
   "source": [
    "definite_sound_array = np.reshape(data_array[index_signal_left:index_signal_right+1], (np.shape(data_array[index_signal_left:index_signal_right+1])[0] * np.shape(data_array[index_signal_left:index_signal_right])[1], 1)) #normal form of sound\n",
    "     supposed_sound_array  = np.reshape(data_array[index_signal_left:index_signal_right], (np.shape(data_array[index_signal_left:index_signal_right])[0] * np.shape(data_array[index_signal_left :index_signal_right])[1], 1)) #normal form of sound"
   ]
  },
  {
   "cell_type": "code",
   "execution_count": 121,
   "metadata": {},
   "outputs": [
    {
     "data": {
      "text/plain": [
       "array([1, 0, 0, 4, 5, 6, 7])"
      ]
     },
     "execution_count": 121,
     "metadata": {},
     "output_type": "execute_result"
    }
   ],
   "source": [
    "a = np.array([1,2,3,4,5,6,7])\n",
    "b = np.array([4,5,6])\n",
    "a[1:3] = 0\n",
    "a\n"
   ]
  },
  {
   "cell_type": "code",
   "execution_count": 88,
   "metadata": {},
   "outputs": [
    {
     "name": "stdout",
     "output_type": "stream",
     "text": [
      "1\n",
      "2\n",
      "3\n",
      "2\n"
     ]
    }
   ],
   "source": []
  },
  {
   "cell_type": "code",
   "execution_count": 38,
   "metadata": {},
   "outputs": [
    {
     "data": {
      "text/plain": [
       "(array([313, 240, 199, ..., 600, 563, 528], dtype=int16), 44100)"
      ]
     },
     "execution_count": 38,
     "metadata": {},
     "output_type": "execute_result"
    }
   ],
   "source": [
    "a = wav_manager()\n",
    "a.get_data_sample_rate()"
   ]
  }
 ],
 "metadata": {
  "kernelspec": {
   "display_name": "Python 3",
   "language": "python",
   "name": "python3"
  },
  "language_info": {
   "codemirror_mode": {
    "name": "ipython",
    "version": 3
   },
   "file_extension": ".py",
   "mimetype": "text/x-python",
   "name": "python",
   "nbconvert_exporter": "python",
   "pygments_lexer": "ipython3",
   "version": "3.10.6"
  },
  "orig_nbformat": 4
 },
 "nbformat": 4,
 "nbformat_minor": 2
}
